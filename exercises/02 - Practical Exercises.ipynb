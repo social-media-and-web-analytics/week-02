{
 "cells": [
  {
   "cell_type": "markdown",
   "id": "cee8d0e1",
   "metadata": {},
   "source": [
    "# 02 - Practical Exercises\n",
    "Let's use what we learned before to do some more advanced analysis."
   ]
  },
  {
   "cell_type": "markdown",
   "id": "e825a1ee",
   "metadata": {},
   "source": [
    "### Task 02-01: Load datasets\n",
    "In the code block below, load the `WednesdayMotivation_texts.json` and `JohnsonOut2_texts.json` datasets (from the `data` folder) into two separate `pandas` DataFrames."
   ]
  },
  {
   "cell_type": "code",
   "execution_count": null,
   "id": "29f4aa4a",
   "metadata": {},
   "outputs": [],
   "source": [
    "# (SOLUTION)\n"
   ]
  },
  {
   "cell_type": "markdown",
   "id": "54b60bb7",
   "metadata": {},
   "source": [
    "### Task 02-02: Compare datasets\n",
    "In the code block below, compute and print the number of Retweets (RT) that each dataset contains."
   ]
  },
  {
   "cell_type": "code",
   "execution_count": null,
   "id": "cd714f1c",
   "metadata": {},
   "outputs": [],
   "source": [
    "# (SOLUTION)\n"
   ]
  },
  {
   "cell_type": "markdown",
   "id": "beb47aba",
   "metadata": {},
   "source": [
    "**Question** Which dataset contains more Retweets?"
   ]
  },
  {
   "cell_type": "markdown",
   "id": "a9cd2418",
   "metadata": {},
   "source": [
    "## Predict sentiment\n",
    "Run the code below to download the [VADER](https://ojs.aaai.org/index.php/ICWSM/article/view/14550) [lexicon](https://github.com/cjhutto/vaderSentiment/blob/master/vaderSentiment/vader_lexicon.txt), create an instance of an [NLTK](https://www.nltk.org/) [SentimentIntensityAnalyzer](https://www.nltk.org/_modules/nltk/sentiment/vader.html#SentimentIntensityAnalyzer), and build a `predict_sentiment` function."
   ]
  },
  {
   "cell_type": "code",
   "execution_count": null,
   "id": "d876beb1",
   "metadata": {},
   "outputs": [],
   "source": [
    "import nltk\n",
    "nltk.download('vader_lexicon')\n",
    "from nltk.sentiment.vader import SentimentIntensityAnalyzer\n",
    "scorer = SentimentIntensityAnalyzer()\n",
    "\n",
    "def predict_sentiment(text_string):\n",
    "    return(scorer.polarity_scores(text_string)['compound'])"
   ]
  },
  {
   "cell_type": "markdown",
   "id": "4796d1f9",
   "metadata": {},
   "source": [
    "### Task 02-03: Compare Mean Sentiment\n",
    "Use the `apply` method to create a new column (named `sentiment`) containing predictions of the sentiment for each tweet in both datasets, compute the `mean()` of the `sentiment` column for both datasets, and print the results."
   ]
  },
  {
   "cell_type": "code",
   "execution_count": null,
   "id": "555c3165",
   "metadata": {},
   "outputs": [],
   "source": [
    "# (SOLUTION)\n"
   ]
  },
  {
   "cell_type": "markdown",
   "id": "a5d53a66",
   "metadata": {},
   "source": [
    "**Question** Which dataset has the lowest average sentiment over tweets?"
   ]
  },
  {
   "cell_type": "markdown",
   "id": "efdc2652",
   "metadata": {},
   "source": [
    "### Task 02-03: Visualise Sentiment\n",
    "Use the visualisation methods from the demo exercises to create histogram plots of the sentiment values of both datasets, in the same plot."
   ]
  },
  {
   "cell_type": "code",
   "execution_count": null,
   "id": "bf6635b4",
   "metadata": {},
   "outputs": [],
   "source": [
    "# (SOLUTION)\n"
   ]
  },
  {
   "cell_type": "markdown",
   "id": "96e0515c",
   "metadata": {},
   "source": [
    "**Question** Based on the above plot, which dataset do you think contains more tweets with sentiment score of zero?"
   ]
  },
  {
   "cell_type": "markdown",
   "id": "53ac0236",
   "metadata": {},
   "source": [
    "### Task 02-04: Compare Class Sizes\n",
    "Threshold the sentiment scores (around zero) to categorise the tweets in each dataset into `1` and `-1`, count the number of each class in each dataset, and then print the results."
   ]
  },
  {
   "cell_type": "code",
   "execution_count": null,
   "id": "46671ee5",
   "metadata": {},
   "outputs": [],
   "source": [
    "# (SOLUTION)\n"
   ]
  },
  {
   "cell_type": "markdown",
   "id": "903dbb39",
   "metadata": {},
   "source": [
    "**Question** Which dataset has a higher number of tweets of class `1`?\n",
    "\n",
    "**Question** Which dataset has a higher <ins>fraction</ins> of tweets of class `1`?"
   ]
  },
  {
   "cell_type": "markdown",
   "id": "ed173e84",
   "metadata": {},
   "source": [
    "### <ins>Advanced</ins> Task 02-05: Inspect the tweets to explain the differences\n",
    "<span style=\"color: red;\">**You do not need to do this task, but you can if you want!**</span>\n",
    "\n",
    "Filter/sort the tweets in each dataset and try to answer:\n",
    "* Why do the tweets in the `JohnsonOut2_texts.json` dataset have a lower/higher mean sentiment?\n",
    "* Why are there more/less tweets in the `JohnsonOut2_texts.json` dataset with sentiment zero?\n",
    "\n",
    "*Hint* : Consider the text features present in the tweets and which text features might be associated with high/low/zero sentiment scores."
   ]
  }
 ],
 "metadata": {
  "kernelspec": {
   "display_name": "Python 3 (ipykernel)",
   "language": "python",
   "name": "python3"
  },
  "language_info": {
   "codemirror_mode": {
    "name": "ipython",
    "version": 3
   },
   "file_extension": ".py",
   "mimetype": "text/x-python",
   "name": "python",
   "nbconvert_exporter": "python",
   "pygments_lexer": "ipython3",
   "version": "3.7.9"
  }
 },
 "nbformat": 4,
 "nbformat_minor": 5
}
