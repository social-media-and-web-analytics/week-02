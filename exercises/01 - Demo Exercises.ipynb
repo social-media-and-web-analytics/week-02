{
 "cells": [
  {
   "cell_type": "markdown",
   "id": "add81b09",
   "metadata": {},
   "source": [
    "# 01 - Demo Exercises\n",
    "Let's go through some demo exercises to introduce you to Social Media Analytics using Twitter data, and learn some Python along the way."
   ]
  },
  {
   "cell_type": "markdown",
   "id": "0a9e5383",
   "metadata": {},
   "source": [
    "## Load Data\n",
    "Let's use the `pandas` library to load a `.json` file into a `pandas` object containing the text data from a sample of [Twitter](https://about.twitter.com/en) tweets. We will also name the values-column `text` and print the `head()` too so we can see what the object looks like."
   ]
  },
  {
   "cell_type": "code",
   "execution_count": null,
   "id": "5e8402d0",
   "metadata": {},
   "outputs": [],
   "source": [
    "import pandas as pd\n",
    "df_WedMot = pd.read_json('../data/WednesdayMotivation_tweets_text.json')\n",
    "df_WedMot.head()"
   ]
  },
  {
   "cell_type": "markdown",
   "id": "e730677a",
   "metadata": {},
   "source": [
    "## Describe Data\n",
    "\n",
    "### Identify Retweets\n",
    "Let's identify which tweets in the dataset are [Retweets](https://help.twitter.com/en/using-twitter/retweet-faqs) (RT). We do this using the [`apply()`](https://pandas.pydata.org/docs/reference/api/pandas.DataFrame.apply.html) method and using the [`lamda`](https://www.w3schools.com/python/python_lambda.asp) notation to define an inline function. Runt he code below."
   ]
  },
  {
   "cell_type": "code",
   "execution_count": null,
   "id": "154e3d87",
   "metadata": {},
   "outputs": [],
   "source": [
    "df_WedMot['isRT'] = df_WedMot['full_text'].apply(lambda s: s.startswith('RT'))\n",
    "df_WedMot.head()"
   ]
  },
  {
   "cell_type": "markdown",
   "id": "46d9834b",
   "metadata": {},
   "source": [
    "### Count Retweets\n",
    "Now let's count how many tweets are Retweets by simply counting the number of `True` values in the `isRT` column. Run teh code below."
   ]
  },
  {
   "cell_type": "code",
   "execution_count": null,
   "id": "9184eab2",
   "metadata": {},
   "outputs": [],
   "source": [
    "numRT = df_WedMot['isRT'].sum()\n",
    "print(f'Number of Retweets = {numRT}')"
   ]
  },
  {
   "cell_type": "markdown",
   "id": "380c48dd",
   "metadata": {},
   "source": [
    "Note how we use a formatted string ([f-string](https://docs.python.org/3/tutorial/inputoutput.html)) to print the result."
   ]
  },
  {
   "cell_type": "markdown",
   "id": "f83e2248",
   "metadata": {},
   "source": [
    "### Identify mentions\n",
    "Now lets identify which tweets contain at least one [Mention](https://help.twitter.com/en/using-twitter/types-of-tweets)."
   ]
  },
  {
   "cell_type": "code",
   "execution_count": null,
   "id": "b2e10ac2",
   "metadata": {},
   "outputs": [],
   "source": [
    "df_WedMot['has@'] = df_WedMot['full_text'].apply(lambda s: '@' in s)\n",
    "df_WedMot.head()"
   ]
  },
  {
   "cell_type": "markdown",
   "id": "a2bbfa66",
   "metadata": {},
   "source": [
    "### Task 01-01: Count tweets containing at least one mention\n",
    "Use the methods we used above to count the number of tweets containing at least one mention."
   ]
  },
  {
   "cell_type": "code",
   "execution_count": null,
   "id": "69e4d729",
   "metadata": {},
   "outputs": [],
   "source": [
    "# (SOLUTION)\n"
   ]
  },
  {
   "cell_type": "markdown",
   "id": "3d367724",
   "metadata": {},
   "source": [
    "## Predict Sentiment\n",
    "Let's now perform some further analysis of the tweet text data and try to predict the sentiment of each tweet."
   ]
  },
  {
   "cell_type": "markdown",
   "id": "f31cb87c",
   "metadata": {},
   "source": [
    "### Setup our Sentiment Predicter\n",
    "Run the code below to download the [VADER](https://ojs.aaai.org/index.php/ICWSM/article/view/14550) [lexicon](https://github.com/cjhutto/vaderSentiment/blob/master/vaderSentiment/vader_lexicon.txt), create an instance of an [NLTK](https://www.nltk.org/) [SentimentIntensityAnalyzer](https://www.nltk.org/_modules/nltk/sentiment/vader.html#SentimentIntensityAnalyzer), and build a `predict_sentiment` function."
   ]
  },
  {
   "cell_type": "code",
   "execution_count": null,
   "id": "bb0b01dc",
   "metadata": {},
   "outputs": [],
   "source": [
    "import nltk\n",
    "nltk.download('vader_lexicon')\n",
    "from nltk.sentiment.vader import SentimentIntensityAnalyzer\n",
    "scorer = SentimentIntensityAnalyzer()\n",
    "\n",
    "def predict_sentiment(text_string):\n",
    "    return(scorer.polarity_scores(text_string)['compound'])"
   ]
  },
  {
   "cell_type": "markdown",
   "id": "6c0325cc",
   "metadata": {},
   "source": [
    "### Apply our Sentiment Predictor\n",
    "Run the code below to apply our sentiment predictor to the text in each row."
   ]
  },
  {
   "cell_type": "code",
   "execution_count": null,
   "id": "47fe72bb",
   "metadata": {},
   "outputs": [],
   "source": [
    "df_WedMot['sentiment'] = df_WedMot['full_text'].apply(predict_sentiment)\n",
    "df_WedMot.head()"
   ]
  },
  {
   "cell_type": "markdown",
   "id": "8a87ac43",
   "metadata": {},
   "source": [
    "## Explore Predictions\n",
    "Now we have predicted the sentiment of each tweet, let's explore the predicted values."
   ]
  },
  {
   "cell_type": "markdown",
   "id": "9a9799a5",
   "metadata": {},
   "source": [
    "### Visualise Predictions\n",
    "Firstly, we can plot the predicted values to better understand the distribution of the (predicted) outcome variable for the sample of tweets. Fun the code below."
   ]
  },
  {
   "cell_type": "code",
   "execution_count": null,
   "id": "b0eb4c8b",
   "metadata": {},
   "outputs": [],
   "source": [
    "import numpy as np\n",
    "import matplotlib.pyplot as plt\n",
    "bins = np.linspace(-1, 1, 20)\n",
    "plt.hist(df_WedMot['sentiment'], bins, alpha=0.5, label='WedMot')\n",
    "plt.legend(loc='upper right')\n",
    "plt.show()"
   ]
  },
  {
   "cell_type": "markdown",
   "id": "1251f4f5",
   "metadata": {},
   "source": [
    "### Describe Predictions\n",
    "We can also analyse the predicted values, in the same way we would analyse observed values. For example, run the code below to calculate the mean sentiment over all the tweets."
   ]
  },
  {
   "cell_type": "code",
   "execution_count": null,
   "id": "f0c2b729",
   "metadata": {},
   "outputs": [],
   "source": [
    "mean_sentiment = df_WedMot['sentiment'].mean()\n",
    "print(f'Mean sentiment = {mean_sentiment}')"
   ]
  },
  {
   "cell_type": "markdown",
   "id": "d4da7085",
   "metadata": {},
   "source": [
    "### Categorise tweets\n",
    "We can also use the predicted values to categorise the tweets using simple thresholding."
   ]
  },
  {
   "cell_type": "code",
   "execution_count": null,
   "id": "969673c4",
   "metadata": {},
   "outputs": [],
   "source": [
    "df_WedMot['class'] = df_WedMot['sentiment'].apply(lambda s: -1 if s < 0 else 1)\n",
    "df_WedMot.head()"
   ]
  },
  {
   "cell_type": "markdown",
   "id": "4457d0ae",
   "metadata": {},
   "source": [
    "*Question* : Do you think this threshold is a good way to categorise the tweets?"
   ]
  },
  {
   "cell_type": "markdown",
   "id": "0848d7a8",
   "metadata": {},
   "source": [
    "### Task 01-02 : Count group sizes\n",
    "Count the number of tweets which fall into the two classes we defined above."
   ]
  },
  {
   "cell_type": "code",
   "execution_count": null,
   "id": "8e86d793",
   "metadata": {},
   "outputs": [],
   "source": [
    "#(SOLUTION)\n"
   ]
  },
  {
   "cell_type": "markdown",
   "id": "8e208e6f",
   "metadata": {},
   "source": [
    "*Question* : Do you still think it is a good way (or not) to categorise the tweets?"
   ]
  },
  {
   "cell_type": "markdown",
   "id": "58f6f1c2",
   "metadata": {},
   "source": [
    "### Inspect most positive tweets\n",
    "Let's have a quick look at the 3 tweets with most positive sentiment."
   ]
  },
  {
   "cell_type": "code",
   "execution_count": null,
   "id": "8838fe61",
   "metadata": {},
   "outputs": [],
   "source": [
    "def print_bold(text):\n",
    "    print('\\033[1m' + text + '\\033[0m')\n",
    "\n",
    "print_bold(\"\\n Tweets with most positve sentiment sentiment\")\n",
    "for full_text in df_WedMot.sort_values(by=['sentiment'], ascending=False)['full_text'].head(3):\n",
    "    print_bold(\"\\n Tweet:\")\n",
    "    print(full_text)"
   ]
  },
  {
   "cell_type": "markdown",
   "id": "1c94e75a",
   "metadata": {},
   "source": [
    "### <ins>Advanced</ins> Task 01-03: Organise tweets by predicted sentiment and reflect\n",
    "<span style=\"color: red;\">**You do not need to do this task, but you can if you want!**</span>\n",
    "\n",
    "Use what you have learned before (in other units) to identify the:\n",
    "* the tweets with most positive sentiment\n",
    "* the tweets with most negative sentiment\n",
    "* the tweets with zero sentiment\n",
    "\n",
    "*Question* : Do the results look like you might expect?\n",
    "*Question* : How do you think this sample of tweets was collected?"
   ]
  },
  {
   "cell_type": "code",
   "execution_count": null,
   "id": "cb3bbd15",
   "metadata": {},
   "outputs": [],
   "source": [
    "#(SOLUTION)\n"
   ]
  }
 ],
 "metadata": {
  "kernelspec": {
   "display_name": "Python 3 (ipykernel)",
   "language": "python",
   "name": "python3"
  },
  "language_info": {
   "codemirror_mode": {
    "name": "ipython",
    "version": 3
   },
   "file_extension": ".py",
   "mimetype": "text/x-python",
   "name": "python",
   "nbconvert_exporter": "python",
   "pygments_lexer": "ipython3",
   "version": "3.7.9"
  }
 },
 "nbformat": 4,
 "nbformat_minor": 5
}
