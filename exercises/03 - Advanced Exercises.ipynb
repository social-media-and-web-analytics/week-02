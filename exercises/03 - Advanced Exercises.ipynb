{
 "cells": [
  {
   "cell_type": "markdown",
   "id": "bc07afaa",
   "metadata": {},
   "source": [
    "# 03 - Advanced Exercises\n",
    "Some additional, more advanced exercises, for if you find the previous exercises too easy."
   ]
  },
  {
   "cell_type": "markdown",
   "id": "d7c54a62",
   "metadata": {},
   "source": [
    "### Task 03-01: Identify frequently occuring mentions\n",
    "In the code block below, load in the `JohnsonOut2_texts.json` dataset, identify all the mentions in the dataset, count the number of times each mention occurs and print out a  dictionary of the mentions and their counts.\n",
    "\n",
    "*Hints* :\n",
    "* To identify all the mentions, you will need to use the Python regular expression package ([`re`](https://docs.python.org/3/library/re.html)) and a regular expression that can be used to find all (e.g. `re.findall`) the mentions (e.g. `@[\\w\\-]+`).\n",
    "* To compute the number of times each mention occurs in the dataset, I recommend you create a list of lists of the mentions in each tweet, flatten the list of lists to a list of all the mentions in the dataset, and then use the Python [`Counter`](https://realpython.com/python-counter/) function to count the number of times each mention appears."
   ]
  },
  {
   "cell_type": "code",
   "execution_count": null,
   "id": "70e686ff",
   "metadata": {},
   "outputs": [],
   "source": [
    "# (LOAD DATA)\n",
    "\n",
    "# (IDENTIFY MENTIONS)\n",
    "\n",
    "# (MENTION COUNTS)\n"
   ]
  },
  {
   "cell_type": "markdown",
   "id": "a3f6f6fa",
   "metadata": {},
   "source": [
    "**Question** What is the most commonly occuring mention in the dataset?"
   ]
  },
  {
   "cell_type": "markdown",
   "id": "a7dfea89",
   "metadata": {},
   "source": [
    "### Task 03-02: Identify and extract URLs\n",
    "In the code block below, identify all the URLs occuring in the dataset, and count the number times each URL occurs.\n",
    "\n",
    "*Hint* : Similar to the solution above, but using th regular expression:\n",
    "\n",
    "`('http[s]?://(?:[a-zA-Z]|[0-9]|[$-_@.&+]|' '[!*\\(\\),]|(?:%[0-9a-fA-F][0-9a-fA-F]))+')`"
   ]
  },
  {
   "cell_type": "code",
   "execution_count": null,
   "id": "7e704b50",
   "metadata": {},
   "outputs": [],
   "source": [
    "# (IDENTIFY URLs)\n",
    "\n",
    "# (MENTION COUNTS)\n"
   ]
  },
  {
   "cell_type": "markdown",
   "id": "6e23e737",
   "metadata": {},
   "source": [
    "**Question** If you copy and paste some of the URLs into a browser what webpages do you see?"
   ]
  },
  {
   "cell_type": "markdown",
   "id": "a460171f",
   "metadata": {},
   "source": [
    "### Task 03-03: Explore additional fields\n",
    "Load in the `WednesdayMotivation_tweets_raw.json` file (which contains all the <ins>raw</ins> data contained in a tweet) to see all the data that comes with a tweet from the [Twitter API](https://developer.twitter.com/en/docs/twitter-api).\n",
    "\n",
    "* Explore the additional fields that are available.\n",
    "\n",
    "* Explore, in particular, the `entities` column and see if the details match your analysis above.\n",
    "\n",
    "Feel free to also explore the `WednesdayMotivation_tweets_raw.json` dataset, to better understand what data is provided by the [Twitter API](https://developer.twitter.com/en/docs/twitter-api)."
   ]
  },
  {
   "cell_type": "code",
   "execution_count": null,
   "id": "33a89a6c",
   "metadata": {},
   "outputs": [],
   "source": [
    "# (SOLUTION)\n",
    "import pandas as pd\n",
    "df_WedMotRaw = pd.read_json('../data/JohnsonOut2_tweets_raw.json')\n",
    "# ..."
   ]
  },
  {
   "cell_type": "markdown",
   "id": "74fbb254",
   "metadata": {},
   "source": [
    "### <ins>Advanced</ins> Task 03-04: Sign up to use the Twitter API\n",
    "<span style=\"color: red;\">**You do not need to do this task, but you can if you want!**</span>\n",
    "\n",
    "If you want, you can sign up to use the [Twitter API](https://developer.twitter.com/en/docs/twitter-api) so you can collect your own Twitter data. You will need to sign up to Twitter, so you may not all want to do this.\n",
    "\n",
    "If you do, then sign up and explore the **Getting Started** section and the **Tutorials**."
   ]
  }
 ],
 "metadata": {
  "kernelspec": {
   "display_name": "Python 3 (ipykernel)",
   "language": "python",
   "name": "python3"
  },
  "language_info": {
   "codemirror_mode": {
    "name": "ipython",
    "version": 3
   },
   "file_extension": ".py",
   "mimetype": "text/x-python",
   "name": "python",
   "nbconvert_exporter": "python",
   "pygments_lexer": "ipython3",
   "version": "3.7.9"
  }
 },
 "nbformat": 4,
 "nbformat_minor": 5
}
